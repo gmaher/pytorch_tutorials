{
 "cells": [
  {
   "cell_type": "code",
   "execution_count": 1,
   "metadata": {},
   "outputs": [],
   "source": [
    "import torch\n",
    "import numpy as np"
   ]
  },
  {
   "cell_type": "code",
   "execution_count": 2,
   "metadata": {},
   "outputs": [],
   "source": [
    "dtype = torch.float\n",
    "device = torch.device('cpu')"
   ]
  },
  {
   "cell_type": "code",
   "execution_count": 3,
   "metadata": {},
   "outputs": [],
   "source": [
    "N = 64\n",
    "D_in = 20\n",
    "H = 20"
   ]
  },
  {
   "cell_type": "code",
   "execution_count": 4,
   "metadata": {},
   "outputs": [],
   "source": [
    "x = np.random.randn(N,D_in)"
   ]
  },
  {
   "cell_type": "code",
   "execution_count": 5,
   "metadata": {},
   "outputs": [
    {
     "name": "stdout",
     "output_type": "stream",
     "text": [
      "<torch.utils.data.dataloader.DataLoader object at 0x7f1d937ee670>\n"
     ]
    }
   ],
   "source": [
    "D = torch.utils.data.DataLoader(x, batch_size=12, shuffle=True)\n",
    "print(D)"
   ]
  },
  {
   "cell_type": "code",
   "execution_count": 6,
   "metadata": {},
   "outputs": [],
   "source": [
    "encoder = torch.nn.Sequential(\n",
    "    torch.nn.Linear(D_in,H),\n",
    "    torch.nn.ReLU(),\n",
    "    torch.nn.Linear(H, H)\n",
    ")\n",
    "\n",
    "decoder = torch.nn.Sequential(\n",
    "    torch.nn.Linear(H,H),\n",
    "    torch.nn.ReLU(),\n",
    "    torch.nn.Linear(H, D_in)\n",
    ")"
   ]
  },
  {
   "cell_type": "code",
   "execution_count": 7,
   "metadata": {},
   "outputs": [],
   "source": [
    "loss_fn = torch.nn.MSELoss(reduction=\"mean\")"
   ]
  },
  {
   "cell_type": "code",
   "execution_count": 8,
   "metadata": {},
   "outputs": [],
   "source": [
    "LR = 1e-2\n",
    "T  = 50\n",
    "LAM = 100.0"
   ]
  },
  {
   "cell_type": "code",
   "execution_count": 9,
   "metadata": {},
   "outputs": [],
   "source": [
    "opt = torch.optim.Adam(list(encoder.parameters())+\\\n",
    "                       list(decoder.parameters()),\n",
    "                       lr=LR)"
   ]
  },
  {
   "cell_type": "code",
   "execution_count": 10,
   "metadata": {},
   "outputs": [
    {
     "name": "stdout",
     "output_type": "stream",
     "text": [
      "0 2.997260093688965 0.021765723824501038\n",
      "1 3.3483939170837402 0.024322664365172386\n",
      "2 2.8896408081054688 0.02119416743516922\n",
      "3 3.873849391937256 0.03052641451358795\n",
      "4 3.3723602294921875 0.02637358382344246\n",
      "5 2.880920886993408 0.02110656350851059\n",
      "6 2.7987120151519775 0.022479763254523277\n",
      "7 3.204115629196167 0.02548287808895111\n",
      "8 2.6613571643829346 0.022045902907848358\n",
      "9 2.657231330871582 0.021219318732619286\n",
      "10 2.6548678874969482 0.020975928753614426\n",
      "11 2.8574624061584473 0.024477845057845116\n",
      "12 3.2242789268493652 0.027055440470576286\n",
      "13 2.6492207050323486 0.02218649908900261\n",
      "14 2.735619306564331 0.022097816690802574\n",
      "15 2.704864501953125 0.023330073803663254\n",
      "16 2.694549798965454 0.022953396663069725\n",
      "17 2.8699586391448975 0.025560293346643448\n",
      "18 2.6179518699645996 0.0224610585719347\n",
      "19 2.4205451011657715 0.02109850011765957\n",
      "20 2.5254948139190674 0.022274767979979515\n",
      "21 2.530794620513916 0.022453932091593742\n",
      "22 2.7098817825317383 0.02447335049510002\n",
      "23 2.524352788925171 0.02309945598244667\n",
      "24 2.90425181388855 0.02652585692703724\n",
      "25 2.8579206466674805 0.02556459605693817\n",
      "26 2.5598201751708984 0.021985406056046486\n",
      "27 2.8983407020568848 0.026504792273044586\n",
      "28 2.4511563777923584 0.022274866700172424\n",
      "29 2.479720115661621 0.021443961188197136\n",
      "30 2.9218878746032715 0.025938794016838074\n",
      "31 2.418144941329956 0.02171376533806324\n",
      "32 2.676915407180786 0.02377646043896675\n",
      "33 2.4946067333221436 0.022415723651647568\n",
      "34 2.642016649246216 0.02428584359586239\n",
      "35 2.9166650772094727 0.02767164260149002\n",
      "36 2.394568681716919 0.021592164412140846\n",
      "37 3.66667103767395 0.03481953963637352\n",
      "38 2.8181610107421875 0.026051564142107964\n",
      "39 2.5923995971679688 0.02416091412305832\n",
      "40 2.471583366394043 0.021702781319618225\n",
      "41 2.641942024230957 0.02400154434144497\n",
      "42 2.5107545852661133 0.02338102087378502\n",
      "43 2.505758285522461 0.022481918334960938\n",
      "44 2.383953094482422 0.02161143720149994\n",
      "45 2.719118595123291 0.02521844580769539\n",
      "46 3.025582790374756 0.027553515508770943\n",
      "47 2.3246121406555176 0.02043968439102173\n",
      "48 2.6103169918060303 0.023848386481404305\n",
      "49 2.410557985305786 0.02188650146126747\n"
     ]
    }
   ],
   "source": [
    "for t in range(T):\n",
    "    for batch,sample in enumerate(D):\n",
    "        encoded = encoder(sample.float())\n",
    "\n",
    "        x_pred = decoder(encoded)\n",
    "\n",
    "        loss = loss_fn(x_pred,sample.float())\n",
    "        \n",
    "        reg = torch.einsum(\"ni,nj->nij\",encoded,encoded)\n",
    "        reg = torch.mean(reg,dim=0)\n",
    "        reg = (reg-torch.eye(H))**2\n",
    "        reg = torch.mean(reg)\n",
    "        \n",
    "        loss += LAM*reg\n",
    "        opt.zero_grad() #zero gradient, why? -> because gradients are\n",
    "        #accumulated normally.\n",
    "\n",
    "        loss.backward()\n",
    "\n",
    "        opt.step()\n",
    "    print(t,loss.item(),reg.item())"
   ]
  },
  {
   "cell_type": "code",
   "execution_count": 11,
   "metadata": {},
   "outputs": [
    {
     "name": "stdout",
     "output_type": "stream",
     "text": [
      "tensor([ 0.3297, -0.5864,  0.0573, -0.7209,  0.4829, -0.2882,  0.3110,  0.5209,\n",
      "        -1.7048, -1.6036,  1.0833,  1.0630,  0.7208, -1.4447,  0.3800, -0.7366,\n",
      "         0.8787,  0.3891, -1.2528, -0.3505], grad_fn=<AddBackward0>)\n"
     ]
    }
   ],
   "source": [
    "z = encoder(torch.from_numpy(x[0]).float())\n",
    "o = decoder(z)\n",
    "print(o)"
   ]
  },
  {
   "cell_type": "code",
   "execution_count": 12,
   "metadata": {},
   "outputs": [
    {
     "data": {
      "text/plain": [
       "array([-0.21778317, -0.04093912,  0.57373434, -1.3274857 ,  0.77783195,\n",
       "       -0.59828433,  1.0754353 ,  1.14441436, -1.78644188, -1.94612744,\n",
       "        1.15840282,  1.53379232,  0.2878578 , -1.60499083,  1.50349799,\n",
       "       -0.56402271,  0.43506824,  0.85252704, -1.25739111, -0.72983643])"
      ]
     },
     "execution_count": 12,
     "metadata": {},
     "output_type": "execute_result"
    }
   ],
   "source": [
    "x[0]"
   ]
  },
  {
   "cell_type": "code",
   "execution_count": 13,
   "metadata": {},
   "outputs": [],
   "source": [
    "Z = encoder(torch.from_numpy(x).float()).data.numpy()"
   ]
  },
  {
   "cell_type": "code",
   "execution_count": 14,
   "metadata": {},
   "outputs": [
    {
     "name": "stdout",
     "output_type": "stream",
     "text": [
      "(64, 20)\n"
     ]
    }
   ],
   "source": [
    "print(Z.shape)"
   ]
  },
  {
   "cell_type": "code",
   "execution_count": 15,
   "metadata": {},
   "outputs": [],
   "source": [
    "B = np.zeros((H,H))\n",
    "for i in range(N):\n",
    "    z = Z[i][:,np.newaxis]\n",
    "    B += z.dot(z.T)"
   ]
  },
  {
   "cell_type": "code",
   "execution_count": 16,
   "metadata": {},
   "outputs": [
    {
     "name": "stdout",
     "output_type": "stream",
     "text": [
      "[[ 1.84470570e-01 -4.58733536e-02  2.67866171e-02  4.07292560e-02\n",
      "  -4.60583107e-02 -5.07813342e-02  5.97539931e-02 -8.72036500e-03\n",
      "   2.87798411e-02 -3.39311613e-02 -8.29184849e-02 -7.29231424e-02\n",
      "   3.49098759e-02  2.34796971e-02  2.29896333e-02  2.83099880e-02\n",
      "  -2.77269259e-02 -4.64833443e-02  1.90675624e-02  2.37613341e-02]\n",
      " [-4.58733536e-02  2.60925445e-01 -2.04582045e-02  3.45609646e-02\n",
      "  -5.12331839e-03  1.81011516e-03 -4.40852036e-02  8.64528105e-03\n",
      "  -1.39075752e-02 -3.52431729e-02  8.98935231e-03  2.24961477e-03\n",
      "  -1.09665567e-02  2.17634112e-02  1.45687530e-01 -7.47059421e-02\n",
      "  -9.88711991e-02 -2.30931301e-02 -2.10959655e-02  1.76207137e-02]\n",
      " [ 2.67866171e-02 -2.04582045e-02  2.76113053e-01  4.59568050e-02\n",
      "  -1.98397931e-02 -1.82146450e-02 -4.55757863e-02  2.31560516e-02\n",
      "  -7.09604697e-02  8.86669169e-02  4.41926061e-02  4.91909239e-03\n",
      "   1.01183615e-01 -1.32313973e-02 -1.44215391e-01  8.05729236e-02\n",
      "  -7.89175921e-02 -4.12045378e-02 -2.30274169e-03  4.08944249e-02]\n",
      " [ 4.07292560e-02  3.45609646e-02  4.59568050e-02  3.81544419e-01\n",
      "   1.47766661e-02  5.51673365e-02  1.33586970e-02 -6.34653572e-02\n",
      "   1.41402158e-03 -5.81795225e-02  5.00134372e-02  7.26844799e-02\n",
      "  -5.52407526e-02 -3.27215316e-02 -9.94272051e-03 -2.36910910e-02\n",
      "  -6.50669336e-02  1.96885932e-02 -9.78140167e-02 -6.77663196e-02]\n",
      " [-4.60583107e-02 -5.12331839e-03 -1.98397931e-02  1.47766661e-02\n",
      "   3.11181636e-01  1.53173801e-02  6.22563221e-02  1.48457859e-02\n",
      "  -1.90015562e-02 -8.76908302e-02 -1.44765913e-03  5.26932755e-02\n",
      "  -8.04593181e-02  6.17403308e-03  6.82819372e-03  4.73338730e-02\n",
      "   8.85309247e-03 -1.09412147e-01 -6.89970280e-02 -1.21614829e-02]\n",
      " [-5.07813342e-02  1.81011516e-03 -1.82146450e-02  5.51673365e-02\n",
      "   1.53173801e-02  3.50949854e-01 -2.91271899e-02 -2.15192957e-02\n",
      "   8.36515914e-02  2.81833503e-02  6.68731760e-02  3.38869256e-02\n",
      "   4.32629462e-02  1.09376837e-02  4.28157275e-02 -1.56183863e-02\n",
      "  -8.91519848e-02  1.70168301e-02  1.87000730e-02  6.41686983e-02]\n",
      " [ 5.97539931e-02 -4.40852036e-02 -4.55757863e-02  1.33586970e-02\n",
      "   6.22563221e-02 -2.91271899e-02  3.32739269e-01  5.28987330e-02\n",
      "  -9.82954605e-02  6.40670822e-02 -2.02375303e-02 -4.64779867e-02\n",
      "   2.84613752e-02  1.75461307e-02 -4.09251333e-02 -4.72253022e-02\n",
      "  -7.80473393e-02  1.03980226e-02 -8.39843218e-02  6.08529148e-02]\n",
      " [-8.72036500e-03  8.64528105e-03  2.31560516e-02 -6.34653572e-02\n",
      "   1.48457859e-02 -2.15192957e-02  5.28987330e-02  2.36745725e-01\n",
      "   3.40218216e-02 -6.06895108e-03  2.62841023e-02 -1.87707666e-02\n",
      "  -4.73114497e-03 -7.07645617e-02 -1.60810607e-02  7.84742993e-03\n",
      "  -1.96106736e-02  2.87593091e-02 -4.42168574e-02  4.82065516e-03]\n",
      " [ 2.87798411e-02 -1.39075752e-02 -7.09604697e-02  1.41402158e-03\n",
      "  -1.90015562e-02  8.36515914e-02 -9.82954605e-02  3.40218216e-02\n",
      "   3.17142755e-01 -6.73796905e-03 -8.91174932e-02 -3.04229161e-02\n",
      "  -1.08431899e-01 -2.27162011e-02  2.90486303e-02 -6.51342028e-02\n",
      "   1.06048146e-01 -5.90848209e-02  1.32574836e-02 -5.38979661e-02]\n",
      " [-3.39311613e-02 -3.52431729e-02  8.86669169e-02 -5.81795225e-02\n",
      "  -8.76908302e-02  2.81833503e-02  6.40670822e-02 -6.06895108e-03\n",
      "  -6.73796905e-03  2.64175033e-01 -1.39886571e-02 -1.06358778e-02\n",
      "   6.74429104e-02  3.19268942e-02 -1.15940552e-01 -1.53111009e-02\n",
      "  -2.66246490e-02  3.43873586e-02  2.04251800e-02 -1.05643574e-01]\n",
      " [-8.29184849e-02  8.98935231e-03  4.41926061e-02  5.00134372e-02\n",
      "  -1.44765913e-03  6.68731760e-02 -2.02375303e-02  2.62841023e-02\n",
      "  -8.91174932e-02 -1.39886571e-02  2.14927758e-01  5.68181368e-02\n",
      "   3.03834170e-02 -1.11440856e-02  2.42254303e-02  1.51804210e-02\n",
      "   5.99019459e-04 -5.64658691e-02 -1.02384373e-02  5.38015801e-02]\n",
      " [-7.29231424e-02  2.24961477e-03  4.91909239e-03  7.26844799e-02\n",
      "   5.26932755e-02  3.38869256e-02 -4.64779867e-02 -1.87707666e-02\n",
      "  -3.04229161e-02 -1.06358778e-02  5.68181368e-02  2.51299453e-01\n",
      "   1.94181586e-02  5.23663357e-03  3.48746512e-02 -3.79377728e-02\n",
      "   1.23407483e-01  8.30773758e-02 -1.57759309e-02 -2.41134699e-02]\n",
      " [ 3.49098759e-02 -1.09665567e-02  1.01183615e-01 -5.52407526e-02\n",
      "  -8.04593181e-02  4.32629462e-02  2.84613752e-02 -4.73114497e-03\n",
      "  -1.08431899e-01  6.74429104e-02  3.03834170e-02  1.94181586e-02\n",
      "   2.53116164e-01  1.99432834e-02 -2.10484537e-02  1.94094236e-02\n",
      "  -5.19822428e-02  2.58891064e-02  2.31158693e-02  1.37936530e-01]\n",
      " [ 2.34796971e-02  2.17634112e-02 -1.32313973e-02 -3.27215316e-02\n",
      "   6.17403308e-03  1.09376837e-02  1.75461307e-02 -7.07645617e-02\n",
      "  -2.27162011e-02  3.19268942e-02 -1.11440856e-02  5.23663357e-03\n",
      "   1.99432834e-02  3.69696549e-01  1.31408108e-02  3.11936029e-02\n",
      "  -2.81514970e-02 -7.57580089e-03 -4.29060265e-02  4.89975015e-03]\n",
      " [ 2.29896333e-02  1.45687530e-01 -1.44215391e-01 -9.94272051e-03\n",
      "   6.82819372e-03  4.28157275e-02 -4.09251333e-02 -1.60810607e-02\n",
      "   2.90486303e-02 -1.15940552e-01  2.42254303e-02  3.48746512e-02\n",
      "  -2.10484537e-02  1.31408108e-02  3.51603168e-01 -1.14215168e-02\n",
      "  -2.76347175e-03 -1.09592263e-01  1.03891916e-01 -6.17320935e-02]\n",
      " [ 2.83099880e-02 -7.47059421e-02  8.05729236e-02 -2.36910910e-02\n",
      "   4.73338730e-02 -1.56183863e-02 -4.72253022e-02  7.84742993e-03\n",
      "  -6.51342028e-02 -1.53111009e-02  1.51804210e-02 -3.79377728e-02\n",
      "   1.94094236e-02  3.11936029e-02 -1.14215168e-02  4.17116416e-01\n",
      "   1.44091712e-02  2.96282847e-02 -6.09575543e-02 -4.40025977e-02]\n",
      " [-2.77269259e-02 -9.88711991e-02 -7.89175921e-02 -6.50669336e-02\n",
      "   8.85309247e-03 -8.91519848e-02 -7.80473393e-02 -1.96106736e-02\n",
      "   1.06048146e-01 -2.66246490e-02  5.99019459e-04  1.23407483e-01\n",
      "  -5.19822428e-02 -2.81514970e-02 -2.76347175e-03  1.44091712e-02\n",
      "   3.05528402e-01 -1.18273832e-02 -1.09894216e-02 -2.63658791e-02]\n",
      " [-4.64833443e-02 -2.30931301e-02 -4.12045378e-02  1.96885932e-02\n",
      "  -1.09412147e-01  1.70168301e-02  1.03980226e-02  2.87593091e-02\n",
      "  -5.90848209e-02  3.43873586e-02 -5.64658691e-02  8.30773758e-02\n",
      "   2.58891064e-02 -7.57580089e-03 -1.09592263e-01  2.96282847e-02\n",
      "  -1.18273832e-02  3.65636096e-01 -4.40824038e-02  1.34569293e-04]\n",
      " [ 1.90675624e-02 -2.10959655e-02 -2.30274169e-03 -9.78140167e-02\n",
      "  -6.89970280e-02  1.87000730e-02 -8.39843218e-02 -4.42168574e-02\n",
      "   1.32574836e-02  2.04251800e-02 -1.02384373e-02 -1.57759309e-02\n",
      "   2.31158693e-02 -4.29060265e-02  1.03891916e-01 -6.09575543e-02\n",
      "  -1.09894216e-02 -4.40824038e-02  2.09485002e-01 -6.69107729e-02]\n",
      " [ 2.37613341e-02  1.76207137e-02  4.08944249e-02 -6.77663196e-02\n",
      "  -1.21614829e-02  6.41686983e-02  6.08529148e-02  4.82065516e-03\n",
      "  -5.38979661e-02 -1.05643574e-01  5.38015801e-02 -2.41134699e-02\n",
      "   1.37936530e-01  4.89975015e-03 -6.17320935e-02 -4.40025977e-02\n",
      "  -2.63658791e-02  1.34569293e-04 -6.69107729e-02  4.39429065e-01]]\n"
     ]
    }
   ],
   "source": [
    "print(B/N)"
   ]
  },
  {
   "cell_type": "code",
   "execution_count": 17,
   "metadata": {},
   "outputs": [],
   "source": [
    "import matplotlib.pyplot as plt"
   ]
  },
  {
   "cell_type": "code",
   "execution_count": 18,
   "metadata": {},
   "outputs": [
    {
     "data": {
      "image/png": "[encoded data removed]",
      "text/plain": [
       "<Figure size 432x288 with 2 Axes>"
      ]
     },
     "metadata": {
      "needs_background": "light"
     },
     "output_type": "display_data"
    }
   ],
   "source": [
    "plt.figure()\n",
    "plt.imshow(B/N)\n",
    "plt.colorbar()\n",
    "plt.show()"
   ]
  },
  {
   "cell_type": "code",
   "execution_count": null,
   "metadata": {},
   "outputs": [],
   "source": []
  }
 ],
 "metadata": {
  "kernelspec": {
   "display_name": "Python 3",
   "language": "python",
   "name": "python3"
  },
  "language_info": {
   "codemirror_mode": {
    "name": "ipython",
    "version": 3
   },
   "file_extension": ".py",
   "mimetype": "text/x-python",
   "name": "python",
   "nbconvert_exporter": "python",
   "pygments_lexer": "ipython3",
   "version": "3.8.3"
  }
 },
 "nbformat": 4,
 "nbformat_minor": 4
}
